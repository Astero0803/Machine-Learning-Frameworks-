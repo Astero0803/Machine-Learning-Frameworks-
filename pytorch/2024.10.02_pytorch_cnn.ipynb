{
  "nbformat": 4,
  "nbformat_minor": 0,
  "metadata": {
    "colab": {
      "provenance": [],
      "gpuType": "T4"
    },
    "kernelspec": {
      "name": "python3",
      "display_name": "Python 3"
    },
    "language_info": {
      "name": "python"
    },
    "accelerator": "GPU"
  },
  "cells": [
    {
      "cell_type": "markdown",
      "source": [
        "# PyTorch를 이용한 CNN"
      ],
      "metadata": {
        "id": "5BAnKyecxeWv"
      }
    },
    {
      "cell_type": "code",
      "execution_count": 1,
      "metadata": {
        "id": "awrQP6OFxS75"
      },
      "outputs": [],
      "source": [
        "import torch\n",
        "import torch.nn as nn\n",
        "import torch.optim as optim\n",
        "import torch.nn.functional as F\n",
        "from torchvision import transforms, datasets"
      ]
    },
    {
      "cell_type": "code",
      "source": [
        "USE_CUDA = torch.cuda.is_available()\n",
        "DEVICE = torch.device(\"cuda\" if USE_CUDA else \"cpu\")"
      ],
      "metadata": {
        "id": "y7BOUPP61LAb"
      },
      "execution_count": 2,
      "outputs": []
    },
    {
      "cell_type": "code",
      "source": [
        "EPOCHS     = 40\n",
        "BATCH_SIZE = 64"
      ],
      "metadata": {
        "id": "esUcD1251MFE"
      },
      "execution_count": 3,
      "outputs": []
    },
    {
      "cell_type": "code",
      "source": [
        "train_loader = torch.utils.data.DataLoader(\n",
        "    datasets.MNIST('./.data',\n",
        "                   train=True,\n",
        "                   download=True,\n",
        "                   transform=transforms.Compose([\n",
        "                       transforms.ToTensor(),\n",
        "                       transforms.Normalize((0.1307,), (0.3081,))\n",
        "                   ])),\n",
        "    batch_size=BATCH_SIZE, shuffle=True)\n",
        "\n",
        "test_loader = torch.utils.data.DataLoader(\n",
        "    datasets.MNIST('./.data',\n",
        "                   train=False,\n",
        "                   transform=transforms.Compose([\n",
        "                       transforms.ToTensor(),\n",
        "                       transforms.Normalize((0.1307,), (0.3081,))\n",
        "                   ])),\n",
        "    batch_size=BATCH_SIZE, shuffle=True)"
      ],
      "metadata": {
        "colab": {
          "base_uri": "https://localhost:8080/"
        },
        "id": "hnzpqOke1WtR",
        "outputId": "c7773abc-5636-4948-e471-70d718f43188"
      },
      "execution_count": 4,
      "outputs": [
        {
          "output_type": "stream",
          "name": "stdout",
          "text": [
            "Downloading http://yann.lecun.com/exdb/mnist/train-images-idx3-ubyte.gz\n",
            "Failed to download (trying next):\n",
            "HTTP Error 403: Forbidden\n",
            "\n",
            "Downloading https://ossci-datasets.s3.amazonaws.com/mnist/train-images-idx3-ubyte.gz\n",
            "Downloading https://ossci-datasets.s3.amazonaws.com/mnist/train-images-idx3-ubyte.gz to ./.data/MNIST/raw/train-images-idx3-ubyte.gz\n"
          ]
        },
        {
          "output_type": "stream",
          "name": "stderr",
          "text": [
            "100%|██████████| 9912422/9912422 [00:00<00:00, 15177162.27it/s]\n"
          ]
        },
        {
          "output_type": "stream",
          "name": "stdout",
          "text": [
            "Extracting ./.data/MNIST/raw/train-images-idx3-ubyte.gz to ./.data/MNIST/raw\n",
            "\n",
            "Downloading http://yann.lecun.com/exdb/mnist/train-labels-idx1-ubyte.gz\n",
            "Failed to download (trying next):\n",
            "HTTP Error 403: Forbidden\n",
            "\n",
            "Downloading https://ossci-datasets.s3.amazonaws.com/mnist/train-labels-idx1-ubyte.gz\n",
            "Downloading https://ossci-datasets.s3.amazonaws.com/mnist/train-labels-idx1-ubyte.gz to ./.data/MNIST/raw/train-labels-idx1-ubyte.gz\n"
          ]
        },
        {
          "output_type": "stream",
          "name": "stderr",
          "text": [
            "100%|██████████| 28881/28881 [00:00<00:00, 521361.31it/s]\n"
          ]
        },
        {
          "output_type": "stream",
          "name": "stdout",
          "text": [
            "Extracting ./.data/MNIST/raw/train-labels-idx1-ubyte.gz to ./.data/MNIST/raw\n",
            "\n",
            "Downloading http://yann.lecun.com/exdb/mnist/t10k-images-idx3-ubyte.gz\n",
            "Failed to download (trying next):\n",
            "HTTP Error 403: Forbidden\n",
            "\n",
            "Downloading https://ossci-datasets.s3.amazonaws.com/mnist/t10k-images-idx3-ubyte.gz\n",
            "Downloading https://ossci-datasets.s3.amazonaws.com/mnist/t10k-images-idx3-ubyte.gz to ./.data/MNIST/raw/t10k-images-idx3-ubyte.gz\n"
          ]
        },
        {
          "output_type": "stream",
          "name": "stderr",
          "text": [
            "100%|██████████| 1648877/1648877 [00:00<00:00, 4411283.65it/s]\n"
          ]
        },
        {
          "output_type": "stream",
          "name": "stdout",
          "text": [
            "Extracting ./.data/MNIST/raw/t10k-images-idx3-ubyte.gz to ./.data/MNIST/raw\n",
            "\n",
            "Downloading http://yann.lecun.com/exdb/mnist/t10k-labels-idx1-ubyte.gz\n",
            "Failed to download (trying next):\n",
            "HTTP Error 403: Forbidden\n",
            "\n",
            "Downloading https://ossci-datasets.s3.amazonaws.com/mnist/t10k-labels-idx1-ubyte.gz\n",
            "Downloading https://ossci-datasets.s3.amazonaws.com/mnist/t10k-labels-idx1-ubyte.gz to ./.data/MNIST/raw/t10k-labels-idx1-ubyte.gz\n"
          ]
        },
        {
          "output_type": "stream",
          "name": "stderr",
          "text": [
            "100%|██████████| 4542/4542 [00:00<00:00, 5348267.48it/s]"
          ]
        },
        {
          "output_type": "stream",
          "name": "stdout",
          "text": [
            "Extracting ./.data/MNIST/raw/t10k-labels-idx1-ubyte.gz to ./.data/MNIST/raw\n",
            "\n"
          ]
        },
        {
          "output_type": "stream",
          "name": "stderr",
          "text": [
            "\n"
          ]
        }
      ]
    },
    {
      "cell_type": "code",
      "source": [
        "class Net(nn.Module):\n",
        "    def __init__(self):\n",
        "        super(Net, self).__init__()\n",
        "        self.conv1 = nn.Conv2d(1, 10, kernel_size=5)\n",
        "        self.conv2 = nn.Conv2d(10, 20, kernel_size=5)\n",
        "        self.conv2_drop = nn.Dropout2d()\n",
        "        self.fc1 = nn.Linear(320, 50)\n",
        "        self.fc2 = nn.Linear(50, 10)\n",
        "\n",
        "    def forward(self, x):\n",
        "        x = F.relu(F.max_pool2d(self.conv1(x), 2))\n",
        "        x = F.relu(F.max_pool2d(self.conv2_drop(self.conv2(x)), 2))\n",
        "        x = x.view(-1, 320)\n",
        "        x = F.relu(self.fc1(x))\n",
        "        x = F.dropout(x, training=self.training)\n",
        "        x = self.fc2(x)\n",
        "        return x"
      ],
      "metadata": {
        "id": "NyyC535I2fkq"
      },
      "execution_count": 5,
      "outputs": []
    },
    {
      "cell_type": "code",
      "source": [
        "model = Net().to(DEVICE)\n",
        "optimizer = optim.SGD(model.parameters(), lr=0.01, momentum=0.5)"
      ],
      "metadata": {
        "id": "A-ZAp8VT5kuE"
      },
      "execution_count": 6,
      "outputs": []
    },
    {
      "cell_type": "code",
      "source": [
        "def train(model, train_loader, optimizer, epoch):\n",
        "    model.train()\n",
        "    for batch_idx, (data, target) in enumerate(train_loader):\n",
        "        data, target = data.to(DEVICE), target.to(DEVICE)\n",
        "        optimizer.zero_grad()\n",
        "        output = model(data)\n",
        "        loss = F.cross_entropy(output, target)\n",
        "        loss.backward()\n",
        "        optimizer.step()\n",
        "\n",
        "        if batch_idx % 200 == 0:\n",
        "            print('Train Epoch: {} [{}/{} ({:.0f}%)]\\tLoss: {:.6f}'.format(\n",
        "                epoch, batch_idx * len(data), len(train_loader.dataset),\n",
        "                100. * batch_idx / len(train_loader), loss.item()))"
      ],
      "metadata": {
        "id": "-wAAnhHv54t6"
      },
      "execution_count": 7,
      "outputs": []
    },
    {
      "cell_type": "code",
      "source": [
        "def evaluate(model, test_loader):\n",
        "    model.eval()\n",
        "    test_loss = 0\n",
        "    correct = 0\n",
        "    with torch.no_grad():\n",
        "        for data, target in test_loader:\n",
        "            data, target = data.to(DEVICE), target.to(DEVICE)\n",
        "            output = model(data)\n",
        "\n",
        "            test_loss += F.cross_entropy(output, target,\n",
        "                                         reduction='sum').item()\n",
        "\n",
        "            pred = output.max(1, keepdim=True)[1]\n",
        "            correct += pred.eq(target.view_as(pred)).sum().item()\n",
        "\n",
        "    test_loss /= len(test_loader.dataset)\n",
        "    test_accuracy = 100. * correct / len(test_loader.dataset)\n",
        "    return test_loss, test_accuracy"
      ],
      "metadata": {
        "id": "atCuG30V7Bnd"
      },
      "execution_count": 8,
      "outputs": []
    },
    {
      "cell_type": "code",
      "source": [
        "for epoch in range(1, EPOCHS + 1):\n",
        "    train(model, train_loader, optimizer, epoch)\n",
        "    test_loss, test_accuracy = evaluate(model, test_loader)\n",
        "\n",
        "    print('[{}] Test Loss: {:.4f}, Accuracy: {:.2f}%'.format(\n",
        "          epoch, test_loss, test_accuracy))"
      ],
      "metadata": {
        "colab": {
          "base_uri": "https://localhost:8080/"
        },
        "id": "rRiM9PmL8f6u",
        "outputId": "a762f36a-2c97-4133-bca9-70d158131216"
      },
      "execution_count": 9,
      "outputs": [
        {
          "output_type": "stream",
          "name": "stdout",
          "text": [
            "Train Epoch: 1 [0/60000 (0%)]\tLoss: 2.322507\n",
            "Train Epoch: 1 [12800/60000 (21%)]\tLoss: 1.098374\n",
            "Train Epoch: 1 [25600/60000 (43%)]\tLoss: 0.750828\n",
            "Train Epoch: 1 [38400/60000 (64%)]\tLoss: 0.537392\n",
            "Train Epoch: 1 [51200/60000 (85%)]\tLoss: 0.423551\n",
            "[1] Test Loss: 0.1985, Accuracy: 94.21%\n",
            "Train Epoch: 2 [0/60000 (0%)]\tLoss: 0.311835\n",
            "Train Epoch: 2 [12800/60000 (21%)]\tLoss: 0.443766\n",
            "Train Epoch: 2 [25600/60000 (43%)]\tLoss: 0.438482\n",
            "Train Epoch: 2 [38400/60000 (64%)]\tLoss: 0.329560\n",
            "Train Epoch: 2 [51200/60000 (85%)]\tLoss: 0.199519\n",
            "[2] Test Loss: 0.1220, Accuracy: 96.37%\n",
            "Train Epoch: 3 [0/60000 (0%)]\tLoss: 0.238973\n",
            "Train Epoch: 3 [12800/60000 (21%)]\tLoss: 0.202865\n",
            "Train Epoch: 3 [25600/60000 (43%)]\tLoss: 0.409223\n",
            "Train Epoch: 3 [38400/60000 (64%)]\tLoss: 0.173505\n",
            "Train Epoch: 3 [51200/60000 (85%)]\tLoss: 0.320721\n",
            "[3] Test Loss: 0.0938, Accuracy: 97.08%\n",
            "Train Epoch: 4 [0/60000 (0%)]\tLoss: 0.243428\n",
            "Train Epoch: 4 [12800/60000 (21%)]\tLoss: 0.165229\n",
            "Train Epoch: 4 [25600/60000 (43%)]\tLoss: 0.340558\n",
            "Train Epoch: 4 [38400/60000 (64%)]\tLoss: 0.122875\n",
            "Train Epoch: 4 [51200/60000 (85%)]\tLoss: 0.135261\n",
            "[4] Test Loss: 0.0820, Accuracy: 97.54%\n",
            "Train Epoch: 5 [0/60000 (0%)]\tLoss: 0.188789\n",
            "Train Epoch: 5 [12800/60000 (21%)]\tLoss: 0.231948\n",
            "Train Epoch: 5 [25600/60000 (43%)]\tLoss: 0.304549\n",
            "Train Epoch: 5 [38400/60000 (64%)]\tLoss: 0.173960\n",
            "Train Epoch: 5 [51200/60000 (85%)]\tLoss: 0.219523\n",
            "[5] Test Loss: 0.0724, Accuracy: 97.63%\n",
            "Train Epoch: 6 [0/60000 (0%)]\tLoss: 0.261194\n",
            "Train Epoch: 6 [12800/60000 (21%)]\tLoss: 0.203834\n",
            "Train Epoch: 6 [25600/60000 (43%)]\tLoss: 0.296859\n",
            "Train Epoch: 6 [38400/60000 (64%)]\tLoss: 0.130713\n",
            "Train Epoch: 6 [51200/60000 (85%)]\tLoss: 0.172290\n",
            "[6] Test Loss: 0.0632, Accuracy: 98.03%\n",
            "Train Epoch: 7 [0/60000 (0%)]\tLoss: 0.076467\n",
            "Train Epoch: 7 [12800/60000 (21%)]\tLoss: 0.092098\n",
            "Train Epoch: 7 [25600/60000 (43%)]\tLoss: 0.088046\n",
            "Train Epoch: 7 [38400/60000 (64%)]\tLoss: 0.124812\n",
            "Train Epoch: 7 [51200/60000 (85%)]\tLoss: 0.077049\n",
            "[7] Test Loss: 0.0584, Accuracy: 98.23%\n",
            "Train Epoch: 8 [0/60000 (0%)]\tLoss: 0.109385\n",
            "Train Epoch: 8 [12800/60000 (21%)]\tLoss: 0.208111\n",
            "Train Epoch: 8 [25600/60000 (43%)]\tLoss: 0.040838\n",
            "Train Epoch: 8 [38400/60000 (64%)]\tLoss: 0.119229\n",
            "Train Epoch: 8 [51200/60000 (85%)]\tLoss: 0.102871\n",
            "[8] Test Loss: 0.0547, Accuracy: 98.30%\n",
            "Train Epoch: 9 [0/60000 (0%)]\tLoss: 0.042082\n",
            "Train Epoch: 9 [12800/60000 (21%)]\tLoss: 0.094473\n",
            "Train Epoch: 9 [25600/60000 (43%)]\tLoss: 0.134125\n",
            "Train Epoch: 9 [38400/60000 (64%)]\tLoss: 0.118500\n",
            "Train Epoch: 9 [51200/60000 (85%)]\tLoss: 0.078161\n",
            "[9] Test Loss: 0.0519, Accuracy: 98.39%\n",
            "Train Epoch: 10 [0/60000 (0%)]\tLoss: 0.117913\n",
            "Train Epoch: 10 [12800/60000 (21%)]\tLoss: 0.233610\n",
            "Train Epoch: 10 [25600/60000 (43%)]\tLoss: 0.225570\n",
            "Train Epoch: 10 [38400/60000 (64%)]\tLoss: 0.181831\n",
            "Train Epoch: 10 [51200/60000 (85%)]\tLoss: 0.108160\n",
            "[10] Test Loss: 0.0510, Accuracy: 98.29%\n",
            "Train Epoch: 11 [0/60000 (0%)]\tLoss: 0.090628\n",
            "Train Epoch: 11 [12800/60000 (21%)]\tLoss: 0.138773\n",
            "Train Epoch: 11 [25600/60000 (43%)]\tLoss: 0.167566\n",
            "Train Epoch: 11 [38400/60000 (64%)]\tLoss: 0.134803\n",
            "Train Epoch: 11 [51200/60000 (85%)]\tLoss: 0.272723\n",
            "[11] Test Loss: 0.0492, Accuracy: 98.47%\n",
            "Train Epoch: 12 [0/60000 (0%)]\tLoss: 0.164449\n",
            "Train Epoch: 12 [12800/60000 (21%)]\tLoss: 0.116565\n",
            "Train Epoch: 12 [25600/60000 (43%)]\tLoss: 0.140951\n",
            "Train Epoch: 12 [38400/60000 (64%)]\tLoss: 0.280709\n",
            "Train Epoch: 12 [51200/60000 (85%)]\tLoss: 0.101569\n",
            "[12] Test Loss: 0.0456, Accuracy: 98.53%\n",
            "Train Epoch: 13 [0/60000 (0%)]\tLoss: 0.096979\n",
            "Train Epoch: 13 [12800/60000 (21%)]\tLoss: 0.207150\n",
            "Train Epoch: 13 [25600/60000 (43%)]\tLoss: 0.117167\n",
            "Train Epoch: 13 [38400/60000 (64%)]\tLoss: 0.074334\n",
            "Train Epoch: 13 [51200/60000 (85%)]\tLoss: 0.158702\n",
            "[13] Test Loss: 0.0418, Accuracy: 98.56%\n",
            "Train Epoch: 14 [0/60000 (0%)]\tLoss: 0.051299\n",
            "Train Epoch: 14 [12800/60000 (21%)]\tLoss: 0.056672\n",
            "Train Epoch: 14 [25600/60000 (43%)]\tLoss: 0.096691\n",
            "Train Epoch: 14 [38400/60000 (64%)]\tLoss: 0.113166\n",
            "Train Epoch: 14 [51200/60000 (85%)]\tLoss: 0.124090\n",
            "[14] Test Loss: 0.0426, Accuracy: 98.58%\n",
            "Train Epoch: 15 [0/60000 (0%)]\tLoss: 0.093053\n",
            "Train Epoch: 15 [12800/60000 (21%)]\tLoss: 0.252975\n",
            "Train Epoch: 15 [25600/60000 (43%)]\tLoss: 0.211503\n",
            "Train Epoch: 15 [38400/60000 (64%)]\tLoss: 0.066921\n",
            "Train Epoch: 15 [51200/60000 (85%)]\tLoss: 0.059622\n",
            "[15] Test Loss: 0.0416, Accuracy: 98.67%\n",
            "Train Epoch: 16 [0/60000 (0%)]\tLoss: 0.083068\n",
            "Train Epoch: 16 [12800/60000 (21%)]\tLoss: 0.037400\n",
            "Train Epoch: 16 [25600/60000 (43%)]\tLoss: 0.121640\n",
            "Train Epoch: 16 [38400/60000 (64%)]\tLoss: 0.119585\n",
            "Train Epoch: 16 [51200/60000 (85%)]\tLoss: 0.047642\n",
            "[16] Test Loss: 0.0423, Accuracy: 98.77%\n",
            "Train Epoch: 17 [0/60000 (0%)]\tLoss: 0.123593\n",
            "Train Epoch: 17 [12800/60000 (21%)]\tLoss: 0.040259\n",
            "Train Epoch: 17 [25600/60000 (43%)]\tLoss: 0.159491\n",
            "Train Epoch: 17 [38400/60000 (64%)]\tLoss: 0.056657\n",
            "Train Epoch: 17 [51200/60000 (85%)]\tLoss: 0.051541\n",
            "[17] Test Loss: 0.0416, Accuracy: 98.80%\n",
            "Train Epoch: 18 [0/60000 (0%)]\tLoss: 0.031574\n",
            "Train Epoch: 18 [12800/60000 (21%)]\tLoss: 0.042971\n",
            "Train Epoch: 18 [25600/60000 (43%)]\tLoss: 0.135739\n",
            "Train Epoch: 18 [38400/60000 (64%)]\tLoss: 0.083153\n",
            "Train Epoch: 18 [51200/60000 (85%)]\tLoss: 0.229604\n",
            "[18] Test Loss: 0.0395, Accuracy: 98.78%\n",
            "Train Epoch: 19 [0/60000 (0%)]\tLoss: 0.134725\n",
            "Train Epoch: 19 [12800/60000 (21%)]\tLoss: 0.035802\n",
            "Train Epoch: 19 [25600/60000 (43%)]\tLoss: 0.039018\n",
            "Train Epoch: 19 [38400/60000 (64%)]\tLoss: 0.162348\n",
            "Train Epoch: 19 [51200/60000 (85%)]\tLoss: 0.166791\n",
            "[19] Test Loss: 0.0371, Accuracy: 98.85%\n",
            "Train Epoch: 20 [0/60000 (0%)]\tLoss: 0.146597\n",
            "Train Epoch: 20 [12800/60000 (21%)]\tLoss: 0.072416\n",
            "Train Epoch: 20 [25600/60000 (43%)]\tLoss: 0.036119\n",
            "Train Epoch: 20 [38400/60000 (64%)]\tLoss: 0.120616\n",
            "Train Epoch: 20 [51200/60000 (85%)]\tLoss: 0.126536\n",
            "[20] Test Loss: 0.0417, Accuracy: 98.75%\n",
            "Train Epoch: 21 [0/60000 (0%)]\tLoss: 0.076579\n",
            "Train Epoch: 21 [12800/60000 (21%)]\tLoss: 0.121264\n",
            "Train Epoch: 21 [25600/60000 (43%)]\tLoss: 0.073868\n",
            "Train Epoch: 21 [38400/60000 (64%)]\tLoss: 0.293465\n",
            "Train Epoch: 21 [51200/60000 (85%)]\tLoss: 0.123310\n",
            "[21] Test Loss: 0.0358, Accuracy: 98.88%\n",
            "Train Epoch: 22 [0/60000 (0%)]\tLoss: 0.323556\n",
            "Train Epoch: 22 [12800/60000 (21%)]\tLoss: 0.098610\n",
            "Train Epoch: 22 [25600/60000 (43%)]\tLoss: 0.168333\n",
            "Train Epoch: 22 [38400/60000 (64%)]\tLoss: 0.217389\n",
            "Train Epoch: 22 [51200/60000 (85%)]\tLoss: 0.097727\n",
            "[22] Test Loss: 0.0404, Accuracy: 98.75%\n",
            "Train Epoch: 23 [0/60000 (0%)]\tLoss: 0.110616\n",
            "Train Epoch: 23 [12800/60000 (21%)]\tLoss: 0.196789\n",
            "Train Epoch: 23 [25600/60000 (43%)]\tLoss: 0.112380\n",
            "Train Epoch: 23 [38400/60000 (64%)]\tLoss: 0.170006\n",
            "Train Epoch: 23 [51200/60000 (85%)]\tLoss: 0.208293\n",
            "[23] Test Loss: 0.0347, Accuracy: 98.81%\n",
            "Train Epoch: 24 [0/60000 (0%)]\tLoss: 0.065672\n",
            "Train Epoch: 24 [12800/60000 (21%)]\tLoss: 0.177598\n",
            "Train Epoch: 24 [25600/60000 (43%)]\tLoss: 0.096666\n",
            "Train Epoch: 24 [38400/60000 (64%)]\tLoss: 0.100259\n",
            "Train Epoch: 24 [51200/60000 (85%)]\tLoss: 0.149098\n",
            "[24] Test Loss: 0.0341, Accuracy: 99.03%\n",
            "Train Epoch: 25 [0/60000 (0%)]\tLoss: 0.049810\n",
            "Train Epoch: 25 [12800/60000 (21%)]\tLoss: 0.061394\n",
            "Train Epoch: 25 [25600/60000 (43%)]\tLoss: 0.080063\n",
            "Train Epoch: 25 [38400/60000 (64%)]\tLoss: 0.031324\n",
            "Train Epoch: 25 [51200/60000 (85%)]\tLoss: 0.192846\n",
            "[25] Test Loss: 0.0354, Accuracy: 98.93%\n",
            "Train Epoch: 26 [0/60000 (0%)]\tLoss: 0.078270\n",
            "Train Epoch: 26 [12800/60000 (21%)]\tLoss: 0.081323\n",
            "Train Epoch: 26 [25600/60000 (43%)]\tLoss: 0.199577\n",
            "Train Epoch: 26 [38400/60000 (64%)]\tLoss: 0.224389\n",
            "Train Epoch: 26 [51200/60000 (85%)]\tLoss: 0.157162\n",
            "[26] Test Loss: 0.0358, Accuracy: 98.88%\n",
            "Train Epoch: 27 [0/60000 (0%)]\tLoss: 0.192134\n",
            "Train Epoch: 27 [12800/60000 (21%)]\tLoss: 0.061798\n",
            "Train Epoch: 27 [25600/60000 (43%)]\tLoss: 0.164925\n",
            "Train Epoch: 27 [38400/60000 (64%)]\tLoss: 0.061084\n",
            "Train Epoch: 27 [51200/60000 (85%)]\tLoss: 0.072035\n",
            "[27] Test Loss: 0.0350, Accuracy: 98.92%\n",
            "Train Epoch: 28 [0/60000 (0%)]\tLoss: 0.203572\n",
            "Train Epoch: 28 [12800/60000 (21%)]\tLoss: 0.156873\n",
            "Train Epoch: 28 [25600/60000 (43%)]\tLoss: 0.032243\n",
            "Train Epoch: 28 [38400/60000 (64%)]\tLoss: 0.107112\n",
            "Train Epoch: 28 [51200/60000 (85%)]\tLoss: 0.070782\n",
            "[28] Test Loss: 0.0335, Accuracy: 98.92%\n",
            "Train Epoch: 29 [0/60000 (0%)]\tLoss: 0.049372\n",
            "Train Epoch: 29 [12800/60000 (21%)]\tLoss: 0.074558\n",
            "Train Epoch: 29 [25600/60000 (43%)]\tLoss: 0.059676\n",
            "Train Epoch: 29 [38400/60000 (64%)]\tLoss: 0.217086\n",
            "Train Epoch: 29 [51200/60000 (85%)]\tLoss: 0.028718\n",
            "[29] Test Loss: 0.0350, Accuracy: 98.87%\n",
            "Train Epoch: 30 [0/60000 (0%)]\tLoss: 0.160493\n",
            "Train Epoch: 30 [12800/60000 (21%)]\tLoss: 0.079550\n",
            "Train Epoch: 30 [25600/60000 (43%)]\tLoss: 0.099705\n",
            "Train Epoch: 30 [38400/60000 (64%)]\tLoss: 0.251748\n",
            "Train Epoch: 30 [51200/60000 (85%)]\tLoss: 0.067657\n",
            "[30] Test Loss: 0.0335, Accuracy: 99.01%\n",
            "Train Epoch: 31 [0/60000 (0%)]\tLoss: 0.043386\n",
            "Train Epoch: 31 [12800/60000 (21%)]\tLoss: 0.107827\n",
            "Train Epoch: 31 [25600/60000 (43%)]\tLoss: 0.141800\n",
            "Train Epoch: 31 [38400/60000 (64%)]\tLoss: 0.079462\n",
            "Train Epoch: 31 [51200/60000 (85%)]\tLoss: 0.131773\n",
            "[31] Test Loss: 0.0341, Accuracy: 98.94%\n",
            "Train Epoch: 32 [0/60000 (0%)]\tLoss: 0.035751\n",
            "Train Epoch: 32 [12800/60000 (21%)]\tLoss: 0.030646\n",
            "Train Epoch: 32 [25600/60000 (43%)]\tLoss: 0.364575\n",
            "Train Epoch: 32 [38400/60000 (64%)]\tLoss: 0.162965\n",
            "Train Epoch: 32 [51200/60000 (85%)]\tLoss: 0.050484\n",
            "[32] Test Loss: 0.0341, Accuracy: 98.95%\n",
            "Train Epoch: 33 [0/60000 (0%)]\tLoss: 0.164430\n",
            "Train Epoch: 33 [12800/60000 (21%)]\tLoss: 0.085408\n",
            "Train Epoch: 33 [25600/60000 (43%)]\tLoss: 0.066286\n",
            "Train Epoch: 33 [38400/60000 (64%)]\tLoss: 0.063042\n",
            "Train Epoch: 33 [51200/60000 (85%)]\tLoss: 0.086423\n",
            "[33] Test Loss: 0.0325, Accuracy: 98.97%\n",
            "Train Epoch: 34 [0/60000 (0%)]\tLoss: 0.063269\n",
            "Train Epoch: 34 [12800/60000 (21%)]\tLoss: 0.042866\n",
            "Train Epoch: 34 [25600/60000 (43%)]\tLoss: 0.164762\n",
            "Train Epoch: 34 [38400/60000 (64%)]\tLoss: 0.011510\n",
            "Train Epoch: 34 [51200/60000 (85%)]\tLoss: 0.123858\n",
            "[34] Test Loss: 0.0350, Accuracy: 98.99%\n",
            "Train Epoch: 35 [0/60000 (0%)]\tLoss: 0.073191\n",
            "Train Epoch: 35 [12800/60000 (21%)]\tLoss: 0.025278\n",
            "Train Epoch: 35 [25600/60000 (43%)]\tLoss: 0.068653\n",
            "Train Epoch: 35 [38400/60000 (64%)]\tLoss: 0.095367\n",
            "Train Epoch: 35 [51200/60000 (85%)]\tLoss: 0.023421\n",
            "[35] Test Loss: 0.0342, Accuracy: 98.88%\n",
            "Train Epoch: 36 [0/60000 (0%)]\tLoss: 0.041395\n",
            "Train Epoch: 36 [12800/60000 (21%)]\tLoss: 0.025014\n",
            "Train Epoch: 36 [25600/60000 (43%)]\tLoss: 0.102291\n",
            "Train Epoch: 36 [38400/60000 (64%)]\tLoss: 0.082056\n",
            "Train Epoch: 36 [51200/60000 (85%)]\tLoss: 0.082288\n",
            "[36] Test Loss: 0.0352, Accuracy: 98.88%\n",
            "Train Epoch: 37 [0/60000 (0%)]\tLoss: 0.033273\n",
            "Train Epoch: 37 [12800/60000 (21%)]\tLoss: 0.096649\n",
            "Train Epoch: 37 [25600/60000 (43%)]\tLoss: 0.091047\n",
            "Train Epoch: 37 [38400/60000 (64%)]\tLoss: 0.095172\n",
            "Train Epoch: 37 [51200/60000 (85%)]\tLoss: 0.112148\n",
            "[37] Test Loss: 0.0359, Accuracy: 98.93%\n",
            "Train Epoch: 38 [0/60000 (0%)]\tLoss: 0.038169\n",
            "Train Epoch: 38 [12800/60000 (21%)]\tLoss: 0.049582\n",
            "Train Epoch: 38 [25600/60000 (43%)]\tLoss: 0.220527\n",
            "Train Epoch: 38 [38400/60000 (64%)]\tLoss: 0.040810\n",
            "Train Epoch: 38 [51200/60000 (85%)]\tLoss: 0.100668\n",
            "[38] Test Loss: 0.0321, Accuracy: 99.06%\n",
            "Train Epoch: 39 [0/60000 (0%)]\tLoss: 0.167549\n",
            "Train Epoch: 39 [12800/60000 (21%)]\tLoss: 0.170874\n",
            "Train Epoch: 39 [25600/60000 (43%)]\tLoss: 0.042008\n",
            "Train Epoch: 39 [38400/60000 (64%)]\tLoss: 0.130095\n",
            "Train Epoch: 39 [51200/60000 (85%)]\tLoss: 0.029613\n",
            "[39] Test Loss: 0.0349, Accuracy: 98.91%\n",
            "Train Epoch: 40 [0/60000 (0%)]\tLoss: 0.105026\n",
            "Train Epoch: 40 [12800/60000 (21%)]\tLoss: 0.108130\n",
            "Train Epoch: 40 [25600/60000 (43%)]\tLoss: 0.019090\n",
            "Train Epoch: 40 [38400/60000 (64%)]\tLoss: 0.068758\n",
            "Train Epoch: 40 [51200/60000 (85%)]\tLoss: 0.065547\n",
            "[40] Test Loss: 0.0338, Accuracy: 98.92%\n"
          ]
        }
      ]
    }
  ]
}