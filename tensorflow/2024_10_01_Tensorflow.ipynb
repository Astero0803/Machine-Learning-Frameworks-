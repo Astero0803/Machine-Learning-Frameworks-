{
  "nbformat": 4,
  "nbformat_minor": 0,
  "metadata": {
    "colab": {
      "provenance": [],
      "gpuType": "T4"
    },
    "kernelspec": {
      "name": "python3",
      "display_name": "Python 3"
    },
    "language_info": {
      "name": "python"
    },
    "accelerator": "GPU"
  },
  "cells": [
    {
      "cell_type": "code",
      "execution_count": 2,
      "metadata": {
        "id": "9cowG2MhdFES"
      },
      "outputs": [],
      "source": [
        "import tensorflow as tf"
      ]
    },
    {
      "cell_type": "code",
      "source": [
        "x = tf.random.uniform([3,3])\n",
        "\n",
        "print(\"Is there a GPU available: \"),\n",
        "print(tf.config.list_physical_devices(\"GPU\"))\n",
        "\n",
        "print(\"Is the Tensor on GPU #0:  \"),\n",
        "print(x.device.endswith('GPU:0'))"
      ],
      "metadata": {
        "id": "4MiYsWQMeHOh",
        "colab": {
          "base_uri": "https://localhost:8080/"
        },
        "outputId": "a1afdc2c-0763-48f7-c171-9e41dff41c08"
      },
      "execution_count": 3,
      "outputs": [
        {
          "output_type": "stream",
          "name": "stdout",
          "text": [
            "Is there a GPU available: \n",
            "[]\n",
            "Is the Tensor on GPU #0:  \n",
            "False\n"
          ]
        }
      ]
    },
    {
      "cell_type": "code",
      "source": [
        "import tensorflow as tf\n",
        "from tensorflow import keras\n",
        "from tensorflow.keras import layers"
      ],
      "metadata": {
        "id": "CUspFykpi0t1"
      },
      "execution_count": 4,
      "outputs": []
    },
    {
      "cell_type": "code",
      "source": [
        "model = keras.Sequential(\n",
        "    [\n",
        "        layers.Dense(2, activation=\"relu\", name=\"layer1\"),\n",
        "        layers.Dense(3, activation=\"relu\", name=\"layer2\"),\n",
        "        layers.Dense(4, name=\"layer3\"),\n",
        "    ]\n",
        ")\n",
        "x = tf.ones((3, 3))\n",
        "y = model(x)\n",
        "print(y)"
      ],
      "metadata": {
        "colab": {
          "base_uri": "https://localhost:8080/"
        },
        "id": "6AZRHz8EkI2R",
        "outputId": "4ce674b2-cb23-4dd8-863e-f26809e7872d"
      },
      "execution_count": 8,
      "outputs": [
        {
          "output_type": "stream",
          "name": "stdout",
          "text": [
            "tf.Tensor(\n",
            "[[ 0.3504456  -0.01399934 -0.09554702 -0.16037229]\n",
            " [ 0.3504456  -0.01399934 -0.09554702 -0.16037229]\n",
            " [ 0.3504456  -0.01399934 -0.09554702 -0.16037229]], shape=(3, 4), dtype=float32)\n"
          ]
        }
      ]
    },
    {
      "cell_type": "code",
      "source": [
        "layer1 = layers.Dense(2, activation=\"relu\", name=\"layer1\")\n",
        "layer2 = layers.Dense(3, activation=\"relu\", name=\"layer2\")\n",
        "layer3 = layers.Dense(4, name=\"layer3\")\n",
        "\n",
        "x = tf.ones((3, 3))\n",
        "y = layer3(layer2(layer1(x)))"
      ],
      "metadata": {
        "id": "r0-7x8DskTy5"
      },
      "execution_count": 9,
      "outputs": []
    },
    {
      "cell_type": "code",
      "source": [
        "model = keras.Sequential(name=\"my_sequential\")\n",
        "model.add(layers.Dense(2, activation=\"relu\", name=\"layer1\"))\n",
        "model.add(layers.Dense(3, activation=\"relu\", name=\"layer2\"))\n",
        "model.add(layers.Dense(4, name=\"layer3\"))"
      ],
      "metadata": {
        "id": "cQgBdwl3luxV"
      },
      "execution_count": 10,
      "outputs": []
    },
    {
      "cell_type": "code",
      "source": [
        "print(len(model.layers))"
      ],
      "metadata": {
        "colab": {
          "base_uri": "https://localhost:8080/"
        },
        "id": "eYKvYD1ElzaC",
        "outputId": "96aab79c-611c-4ecc-cfa5-38a9d39e7f90"
      },
      "execution_count": 11,
      "outputs": [
        {
          "output_type": "stream",
          "name": "stdout",
          "text": [
            "3\n"
          ]
        }
      ]
    },
    {
      "cell_type": "code",
      "source": [
        "model.pop()\n",
        "print(len(model.layers))"
      ],
      "metadata": {
        "colab": {
          "base_uri": "https://localhost:8080/"
        },
        "id": "r9Q9pY9pl17Z",
        "outputId": "6db9c95c-3fed-430a-9109-958861a91a6e"
      },
      "execution_count": 12,
      "outputs": [
        {
          "output_type": "stream",
          "name": "stdout",
          "text": [
            "2\n"
          ]
        }
      ]
    },
    {
      "cell_type": "code",
      "source": [
        "model = keras.Sequential(\n",
        "    [\n",
        "        layers.Dense(2, activation=\"relu\"),\n",
        "        layers.Dense(3, activation=\"relu\"),\n",
        "        layers.Dense(4),\n",
        "    ]\n",
        ")\n",
        "\n",
        "x = tf.ones((1, 4))\n",
        "y = model(x)\n",
        "print(\"Number of weights after calling the model:\", len(model.weights))"
      ],
      "metadata": {
        "colab": {
          "base_uri": "https://localhost:8080/"
        },
        "id": "CGcVX4LXl5RJ",
        "outputId": "dc52202a-5ff4-4c4f-85df-6db125ae9f7a"
      },
      "execution_count": 13,
      "outputs": [
        {
          "output_type": "stream",
          "name": "stdout",
          "text": [
            "Number of weights after calling the model: 6\n"
          ]
        }
      ]
    },
    {
      "cell_type": "code",
      "source": [
        "model.summary()"
      ],
      "metadata": {
        "colab": {
          "base_uri": "https://localhost:8080/",
          "height": 230
        },
        "id": "3wOxotaCn4u4",
        "outputId": "df9d1cf8-ada8-4177-f99e-a519d74aeec8"
      },
      "execution_count": 14,
      "outputs": [
        {
          "output_type": "display_data",
          "data": {
            "text/plain": [
              "\u001b[1mModel: \"sequential_2\"\u001b[0m\n"
            ],
            "text/html": [
              "<pre style=\"white-space:pre;overflow-x:auto;line-height:normal;font-family:Menlo,'DejaVu Sans Mono',consolas,'Courier New',monospace\"><span style=\"font-weight: bold\">Model: \"sequential_2\"</span>\n",
              "</pre>\n"
            ]
          },
          "metadata": {}
        },
        {
          "output_type": "display_data",
          "data": {
            "text/plain": [
              "┏━━━━━━━━━━━━━━━━━━━━━━━━━━━━━━━━━━━━━━┳━━━━━━━━━━━━━━━━━━━━━━━━━━━━━┳━━━━━━━━━━━━━━━━━┓\n",
              "┃\u001b[1m \u001b[0m\u001b[1mLayer (type)                        \u001b[0m\u001b[1m \u001b[0m┃\u001b[1m \u001b[0m\u001b[1mOutput Shape               \u001b[0m\u001b[1m \u001b[0m┃\u001b[1m \u001b[0m\u001b[1m        Param #\u001b[0m\u001b[1m \u001b[0m┃\n",
              "┡━━━━━━━━━━━━━━━━━━━━━━━━━━━━━━━━━━━━━━╇━━━━━━━━━━━━━━━━━━━━━━━━━━━━━╇━━━━━━━━━━━━━━━━━┩\n",
              "│ dense (\u001b[38;5;33mDense\u001b[0m)                        │ (\u001b[38;5;34m1\u001b[0m, \u001b[38;5;34m2\u001b[0m)                      │              \u001b[38;5;34m10\u001b[0m │\n",
              "├──────────────────────────────────────┼─────────────────────────────┼─────────────────┤\n",
              "│ dense_1 (\u001b[38;5;33mDense\u001b[0m)                      │ (\u001b[38;5;34m1\u001b[0m, \u001b[38;5;34m3\u001b[0m)                      │               \u001b[38;5;34m9\u001b[0m │\n",
              "├──────────────────────────────────────┼─────────────────────────────┼─────────────────┤\n",
              "│ dense_2 (\u001b[38;5;33mDense\u001b[0m)                      │ (\u001b[38;5;34m1\u001b[0m, \u001b[38;5;34m4\u001b[0m)                      │              \u001b[38;5;34m16\u001b[0m │\n",
              "└──────────────────────────────────────┴─────────────────────────────┴─────────────────┘\n"
            ],
            "text/html": [
              "<pre style=\"white-space:pre;overflow-x:auto;line-height:normal;font-family:Menlo,'DejaVu Sans Mono',consolas,'Courier New',monospace\">┏━━━━━━━━━━━━━━━━━━━━━━━━━━━━━━━━━━━━━━┳━━━━━━━━━━━━━━━━━━━━━━━━━━━━━┳━━━━━━━━━━━━━━━━━┓\n",
              "┃<span style=\"font-weight: bold\"> Layer (type)                         </span>┃<span style=\"font-weight: bold\"> Output Shape                </span>┃<span style=\"font-weight: bold\">         Param # </span>┃\n",
              "┡━━━━━━━━━━━━━━━━━━━━━━━━━━━━━━━━━━━━━━╇━━━━━━━━━━━━━━━━━━━━━━━━━━━━━╇━━━━━━━━━━━━━━━━━┩\n",
              "│ dense (<span style=\"color: #0087ff; text-decoration-color: #0087ff\">Dense</span>)                        │ (<span style=\"color: #00af00; text-decoration-color: #00af00\">1</span>, <span style=\"color: #00af00; text-decoration-color: #00af00\">2</span>)                      │              <span style=\"color: #00af00; text-decoration-color: #00af00\">10</span> │\n",
              "├──────────────────────────────────────┼─────────────────────────────┼─────────────────┤\n",
              "│ dense_1 (<span style=\"color: #0087ff; text-decoration-color: #0087ff\">Dense</span>)                      │ (<span style=\"color: #00af00; text-decoration-color: #00af00\">1</span>, <span style=\"color: #00af00; text-decoration-color: #00af00\">3</span>)                      │               <span style=\"color: #00af00; text-decoration-color: #00af00\">9</span> │\n",
              "├──────────────────────────────────────┼─────────────────────────────┼─────────────────┤\n",
              "│ dense_2 (<span style=\"color: #0087ff; text-decoration-color: #0087ff\">Dense</span>)                      │ (<span style=\"color: #00af00; text-decoration-color: #00af00\">1</span>, <span style=\"color: #00af00; text-decoration-color: #00af00\">4</span>)                      │              <span style=\"color: #00af00; text-decoration-color: #00af00\">16</span> │\n",
              "└──────────────────────────────────────┴─────────────────────────────┴─────────────────┘\n",
              "</pre>\n"
            ]
          },
          "metadata": {}
        },
        {
          "output_type": "display_data",
          "data": {
            "text/plain": [
              "\u001b[1m Total params: \u001b[0m\u001b[38;5;34m35\u001b[0m (140.00 B)\n"
            ],
            "text/html": [
              "<pre style=\"white-space:pre;overflow-x:auto;line-height:normal;font-family:Menlo,'DejaVu Sans Mono',consolas,'Courier New',monospace\"><span style=\"font-weight: bold\"> Total params: </span><span style=\"color: #00af00; text-decoration-color: #00af00\">35</span> (140.00 B)\n",
              "</pre>\n"
            ]
          },
          "metadata": {}
        },
        {
          "output_type": "display_data",
          "data": {
            "text/plain": [
              "\u001b[1m Trainable params: \u001b[0m\u001b[38;5;34m35\u001b[0m (140.00 B)\n"
            ],
            "text/html": [
              "<pre style=\"white-space:pre;overflow-x:auto;line-height:normal;font-family:Menlo,'DejaVu Sans Mono',consolas,'Courier New',monospace\"><span style=\"font-weight: bold\"> Trainable params: </span><span style=\"color: #00af00; text-decoration-color: #00af00\">35</span> (140.00 B)\n",
              "</pre>\n"
            ]
          },
          "metadata": {}
        },
        {
          "output_type": "display_data",
          "data": {
            "text/plain": [
              "\u001b[1m Non-trainable params: \u001b[0m\u001b[38;5;34m0\u001b[0m (0.00 B)\n"
            ],
            "text/html": [
              "<pre style=\"white-space:pre;overflow-x:auto;line-height:normal;font-family:Menlo,'DejaVu Sans Mono',consolas,'Courier New',monospace\"><span style=\"font-weight: bold\"> Non-trainable params: </span><span style=\"color: #00af00; text-decoration-color: #00af00\">0</span> (0.00 B)\n",
              "</pre>\n"
            ]
          },
          "metadata": {}
        }
      ]
    },
    {
      "cell_type": "code",
      "source": [
        "model = keras.Sequential()\n",
        "model.add(layers.Input(shape=(4,)))\n",
        "model.add(layers.Dense(2, activation=\"relu\"))\n",
        "\n",
        "model.summary()"
      ],
      "metadata": {
        "colab": {
          "base_uri": "https://localhost:8080/",
          "height": 164
        },
        "id": "pJLz08FaoIr9",
        "outputId": "4063d2b2-cc1f-447f-be28-a8314c7c95d1"
      },
      "execution_count": 15,
      "outputs": [
        {
          "output_type": "display_data",
          "data": {
            "text/plain": [
              "\u001b[1mModel: \"sequential_3\"\u001b[0m\n"
            ],
            "text/html": [
              "<pre style=\"white-space:pre;overflow-x:auto;line-height:normal;font-family:Menlo,'DejaVu Sans Mono',consolas,'Courier New',monospace\"><span style=\"font-weight: bold\">Model: \"sequential_3\"</span>\n",
              "</pre>\n"
            ]
          },
          "metadata": {}
        },
        {
          "output_type": "display_data",
          "data": {
            "text/plain": [
              "┏━━━━━━━━━━━━━━━━━━━━━━━━━━━━━━━━━━━━━━┳━━━━━━━━━━━━━━━━━━━━━━━━━━━━━┳━━━━━━━━━━━━━━━━━┓\n",
              "┃\u001b[1m \u001b[0m\u001b[1mLayer (type)                        \u001b[0m\u001b[1m \u001b[0m┃\u001b[1m \u001b[0m\u001b[1mOutput Shape               \u001b[0m\u001b[1m \u001b[0m┃\u001b[1m \u001b[0m\u001b[1m        Param #\u001b[0m\u001b[1m \u001b[0m┃\n",
              "┡━━━━━━━━━━━━━━━━━━━━━━━━━━━━━━━━━━━━━━╇━━━━━━━━━━━━━━━━━━━━━━━━━━━━━╇━━━━━━━━━━━━━━━━━┩\n",
              "│ dense_3 (\u001b[38;5;33mDense\u001b[0m)                      │ (\u001b[38;5;45mNone\u001b[0m, \u001b[38;5;34m2\u001b[0m)                   │              \u001b[38;5;34m10\u001b[0m │\n",
              "└──────────────────────────────────────┴─────────────────────────────┴─────────────────┘\n"
            ],
            "text/html": [
              "<pre style=\"white-space:pre;overflow-x:auto;line-height:normal;font-family:Menlo,'DejaVu Sans Mono',consolas,'Courier New',monospace\">┏━━━━━━━━━━━━━━━━━━━━━━━━━━━━━━━━━━━━━━┳━━━━━━━━━━━━━━━━━━━━━━━━━━━━━┳━━━━━━━━━━━━━━━━━┓\n",
              "┃<span style=\"font-weight: bold\"> Layer (type)                         </span>┃<span style=\"font-weight: bold\"> Output Shape                </span>┃<span style=\"font-weight: bold\">         Param # </span>┃\n",
              "┡━━━━━━━━━━━━━━━━━━━━━━━━━━━━━━━━━━━━━━╇━━━━━━━━━━━━━━━━━━━━━━━━━━━━━╇━━━━━━━━━━━━━━━━━┩\n",
              "│ dense_3 (<span style=\"color: #0087ff; text-decoration-color: #0087ff\">Dense</span>)                      │ (<span style=\"color: #00d7ff; text-decoration-color: #00d7ff\">None</span>, <span style=\"color: #00af00; text-decoration-color: #00af00\">2</span>)                   │              <span style=\"color: #00af00; text-decoration-color: #00af00\">10</span> │\n",
              "└──────────────────────────────────────┴─────────────────────────────┴─────────────────┘\n",
              "</pre>\n"
            ]
          },
          "metadata": {}
        },
        {
          "output_type": "display_data",
          "data": {
            "text/plain": [
              "\u001b[1m Total params: \u001b[0m\u001b[38;5;34m10\u001b[0m (40.00 B)\n"
            ],
            "text/html": [
              "<pre style=\"white-space:pre;overflow-x:auto;line-height:normal;font-family:Menlo,'DejaVu Sans Mono',consolas,'Courier New',monospace\"><span style=\"font-weight: bold\"> Total params: </span><span style=\"color: #00af00; text-decoration-color: #00af00\">10</span> (40.00 B)\n",
              "</pre>\n"
            ]
          },
          "metadata": {}
        },
        {
          "output_type": "display_data",
          "data": {
            "text/plain": [
              "\u001b[1m Trainable params: \u001b[0m\u001b[38;5;34m10\u001b[0m (40.00 B)\n"
            ],
            "text/html": [
              "<pre style=\"white-space:pre;overflow-x:auto;line-height:normal;font-family:Menlo,'DejaVu Sans Mono',consolas,'Courier New',monospace\"><span style=\"font-weight: bold\"> Trainable params: </span><span style=\"color: #00af00; text-decoration-color: #00af00\">10</span> (40.00 B)\n",
              "</pre>\n"
            ]
          },
          "metadata": {}
        },
        {
          "output_type": "display_data",
          "data": {
            "text/plain": [
              "\u001b[1m Non-trainable params: \u001b[0m\u001b[38;5;34m0\u001b[0m (0.00 B)\n"
            ],
            "text/html": [
              "<pre style=\"white-space:pre;overflow-x:auto;line-height:normal;font-family:Menlo,'DejaVu Sans Mono',consolas,'Courier New',monospace\"><span style=\"font-weight: bold\"> Non-trainable params: </span><span style=\"color: #00af00; text-decoration-color: #00af00\">0</span> (0.00 B)\n",
              "</pre>\n"
            ]
          },
          "metadata": {}
        }
      ]
    },
    {
      "cell_type": "code",
      "source": [
        "model = keras.Sequential()\n",
        "model.add(layers.Dense(2, activation=\"relu\", input_shape=(4,)))\n",
        "\n"
      ],
      "metadata": {
        "id": "Bhrf6yE9s5kp"
      },
      "execution_count": 17,
      "outputs": []
    },
    {
      "cell_type": "code",
      "source": [
        "initial_model = keras.Sequential(\n",
        "    [\n",
        "        layers.Input(shape=(250, 250, 3)),\n",
        "        layers.Conv2D(32, 5, strides=2, activation=\"relu\"),\n",
        "        layers.Conv2D(32, 3, activation=\"relu\"),\n",
        "        layers.Conv2D(32, 3, activation=\"relu\"),\n",
        "    ]\n",
        ")\n",
        "\n",
        "feature_extractor = keras.Model(\n",
        "    inputs=initial_model.inputs,\n",
        "    outputs=[layer.output for layer in initial_model.layers],\n",
        ")\n",
        "\n",
        "x = tf.ones((1, 250, 250, 3))\n",
        "features = feature_extractor(x)\n",
        "print(features)"
      ],
      "metadata": {
        "colab": {
          "base_uri": "https://localhost:8080/"
        },
        "id": "SlmUse7ztiR6",
        "outputId": "a07f956e-5c93-4546-afdb-3b89ed4e5a05"
      },
      "execution_count": 18,
      "outputs": [
        {
          "output_type": "stream",
          "name": "stdout",
          "text": [
            "[<tf.Tensor: shape=(1, 123, 123, 32), dtype=float32, numpy=\n",
            "array([[[[0.74835277, 0.32145175, 0.        , ..., 0.        ,\n",
            "          0.        , 0.62050265],\n",
            "         [0.74835277, 0.32145175, 0.        , ..., 0.        ,\n",
            "          0.        , 0.62050265],\n",
            "         [0.74835277, 0.32145175, 0.        , ..., 0.        ,\n",
            "          0.        , 0.62050265],\n",
            "         ...,\n",
            "         [0.74835277, 0.32145175, 0.        , ..., 0.        ,\n",
            "          0.        , 0.62050265],\n",
            "         [0.74835277, 0.32145175, 0.        , ..., 0.        ,\n",
            "          0.        , 0.62050265],\n",
            "         [0.74835277, 0.32145175, 0.        , ..., 0.        ,\n",
            "          0.        , 0.62050265]],\n",
            "\n",
            "        [[0.74835277, 0.32145175, 0.        , ..., 0.        ,\n",
            "          0.        , 0.62050265],\n",
            "         [0.74835277, 0.32145175, 0.        , ..., 0.        ,\n",
            "          0.        , 0.62050265],\n",
            "         [0.74835277, 0.32145175, 0.        , ..., 0.        ,\n",
            "          0.        , 0.62050265],\n",
            "         ...,\n",
            "         [0.74835277, 0.32145175, 0.        , ..., 0.        ,\n",
            "          0.        , 0.62050265],\n",
            "         [0.74835277, 0.32145175, 0.        , ..., 0.        ,\n",
            "          0.        , 0.62050265],\n",
            "         [0.74835277, 0.32145175, 0.        , ..., 0.        ,\n",
            "          0.        , 0.62050265]],\n",
            "\n",
            "        [[0.74835277, 0.32145175, 0.        , ..., 0.        ,\n",
            "          0.        , 0.62050265],\n",
            "         [0.74835277, 0.32145175, 0.        , ..., 0.        ,\n",
            "          0.        , 0.62050265],\n",
            "         [0.74835277, 0.32145175, 0.        , ..., 0.        ,\n",
            "          0.        , 0.62050265],\n",
            "         ...,\n",
            "         [0.74835277, 0.32145175, 0.        , ..., 0.        ,\n",
            "          0.        , 0.62050265],\n",
            "         [0.74835277, 0.32145175, 0.        , ..., 0.        ,\n",
            "          0.        , 0.62050265],\n",
            "         [0.74835277, 0.32145175, 0.        , ..., 0.        ,\n",
            "          0.        , 0.62050265]],\n",
            "\n",
            "        ...,\n",
            "\n",
            "        [[0.74835277, 0.32145175, 0.        , ..., 0.        ,\n",
            "          0.        , 0.62050265],\n",
            "         [0.74835277, 0.32145175, 0.        , ..., 0.        ,\n",
            "          0.        , 0.62050265],\n",
            "         [0.74835277, 0.32145175, 0.        , ..., 0.        ,\n",
            "          0.        , 0.62050265],\n",
            "         ...,\n",
            "         [0.74835277, 0.32145175, 0.        , ..., 0.        ,\n",
            "          0.        , 0.62050265],\n",
            "         [0.74835277, 0.32145175, 0.        , ..., 0.        ,\n",
            "          0.        , 0.62050265],\n",
            "         [0.74835277, 0.32145175, 0.        , ..., 0.        ,\n",
            "          0.        , 0.62050265]],\n",
            "\n",
            "        [[0.74835277, 0.32145175, 0.        , ..., 0.        ,\n",
            "          0.        , 0.62050265],\n",
            "         [0.74835277, 0.32145175, 0.        , ..., 0.        ,\n",
            "          0.        , 0.62050265],\n",
            "         [0.74835277, 0.32145175, 0.        , ..., 0.        ,\n",
            "          0.        , 0.62050265],\n",
            "         ...,\n",
            "         [0.74835277, 0.32145175, 0.        , ..., 0.        ,\n",
            "          0.        , 0.62050265],\n",
            "         [0.74835277, 0.32145175, 0.        , ..., 0.        ,\n",
            "          0.        , 0.62050265],\n",
            "         [0.74835277, 0.32145175, 0.        , ..., 0.        ,\n",
            "          0.        , 0.62050265]],\n",
            "\n",
            "        [[0.74835277, 0.32145175, 0.        , ..., 0.        ,\n",
            "          0.        , 0.62050265],\n",
            "         [0.74835277, 0.32145175, 0.        , ..., 0.        ,\n",
            "          0.        , 0.62050265],\n",
            "         [0.74835277, 0.32145175, 0.        , ..., 0.        ,\n",
            "          0.        , 0.62050265],\n",
            "         ...,\n",
            "         [0.74835265, 0.32145172, 0.        , ..., 0.        ,\n",
            "          0.        , 0.62050265],\n",
            "         [0.74835265, 0.32145172, 0.        , ..., 0.        ,\n",
            "          0.        , 0.62050265],\n",
            "         [0.74835265, 0.32145172, 0.        , ..., 0.        ,\n",
            "          0.        , 0.62050265]]]], dtype=float32)>, <tf.Tensor: shape=(1, 121, 121, 32), dtype=float32, numpy=\n",
            "array([[[[0.09918185, 0.        , 0.1072859 , ..., 0.00165258,\n",
            "          0.72654235, 0.        ],\n",
            "         [0.09918185, 0.        , 0.1072859 , ..., 0.00165258,\n",
            "          0.72654235, 0.        ],\n",
            "         [0.09918185, 0.        , 0.1072859 , ..., 0.00165258,\n",
            "          0.72654235, 0.        ],\n",
            "         ...,\n",
            "         [0.09918185, 0.        , 0.1072859 , ..., 0.00165258,\n",
            "          0.72654235, 0.        ],\n",
            "         [0.09918185, 0.        , 0.1072859 , ..., 0.00165258,\n",
            "          0.72654235, 0.        ],\n",
            "         [0.09918185, 0.        , 0.1072859 , ..., 0.00165258,\n",
            "          0.72654235, 0.        ]],\n",
            "\n",
            "        [[0.09918185, 0.        , 0.1072859 , ..., 0.00165258,\n",
            "          0.72654235, 0.        ],\n",
            "         [0.09918185, 0.        , 0.1072859 , ..., 0.00165258,\n",
            "          0.72654235, 0.        ],\n",
            "         [0.09918185, 0.        , 0.1072859 , ..., 0.00165258,\n",
            "          0.72654235, 0.        ],\n",
            "         ...,\n",
            "         [0.09918185, 0.        , 0.1072859 , ..., 0.00165258,\n",
            "          0.72654235, 0.        ],\n",
            "         [0.09918185, 0.        , 0.1072859 , ..., 0.00165258,\n",
            "          0.72654235, 0.        ],\n",
            "         [0.09918185, 0.        , 0.1072859 , ..., 0.00165258,\n",
            "          0.72654235, 0.        ]],\n",
            "\n",
            "        [[0.09918185, 0.        , 0.1072859 , ..., 0.00165258,\n",
            "          0.72654235, 0.        ],\n",
            "         [0.09918185, 0.        , 0.1072859 , ..., 0.00165258,\n",
            "          0.72654235, 0.        ],\n",
            "         [0.09918185, 0.        , 0.1072859 , ..., 0.00165258,\n",
            "          0.72654235, 0.        ],\n",
            "         ...,\n",
            "         [0.09918185, 0.        , 0.1072859 , ..., 0.00165258,\n",
            "          0.72654235, 0.        ],\n",
            "         [0.09918185, 0.        , 0.1072859 , ..., 0.00165258,\n",
            "          0.72654235, 0.        ],\n",
            "         [0.09918185, 0.        , 0.1072859 , ..., 0.00165258,\n",
            "          0.72654235, 0.        ]],\n",
            "\n",
            "        ...,\n",
            "\n",
            "        [[0.09918185, 0.        , 0.1072859 , ..., 0.00165258,\n",
            "          0.72654235, 0.        ],\n",
            "         [0.09918185, 0.        , 0.1072859 , ..., 0.00165258,\n",
            "          0.72654235, 0.        ],\n",
            "         [0.09918185, 0.        , 0.1072859 , ..., 0.00165258,\n",
            "          0.72654235, 0.        ],\n",
            "         ...,\n",
            "         [0.09918185, 0.        , 0.1072859 , ..., 0.00165258,\n",
            "          0.72654235, 0.        ],\n",
            "         [0.09918185, 0.        , 0.1072859 , ..., 0.00165258,\n",
            "          0.72654235, 0.        ],\n",
            "         [0.09918185, 0.        , 0.1072859 , ..., 0.00165258,\n",
            "          0.72654235, 0.        ]],\n",
            "\n",
            "        [[0.09918185, 0.        , 0.1072859 , ..., 0.00165258,\n",
            "          0.72654235, 0.        ],\n",
            "         [0.09918185, 0.        , 0.1072859 , ..., 0.00165258,\n",
            "          0.72654235, 0.        ],\n",
            "         [0.09918185, 0.        , 0.1072859 , ..., 0.00165258,\n",
            "          0.72654235, 0.        ],\n",
            "         ...,\n",
            "         [0.09918185, 0.        , 0.1072859 , ..., 0.00165258,\n",
            "          0.72654235, 0.        ],\n",
            "         [0.09918185, 0.        , 0.1072859 , ..., 0.00165258,\n",
            "          0.72654235, 0.        ],\n",
            "         [0.09918185, 0.        , 0.1072859 , ..., 0.00165258,\n",
            "          0.72654235, 0.        ]],\n",
            "\n",
            "        [[0.09918185, 0.        , 0.1072859 , ..., 0.00165258,\n",
            "          0.72654235, 0.        ],\n",
            "         [0.09918185, 0.        , 0.1072859 , ..., 0.00165258,\n",
            "          0.72654235, 0.        ],\n",
            "         [0.09918185, 0.        , 0.1072859 , ..., 0.00165258,\n",
            "          0.72654235, 0.        ],\n",
            "         ...,\n",
            "         [0.09918184, 0.        , 0.10728592, ..., 0.00165256,\n",
            "          0.72654235, 0.        ],\n",
            "         [0.09918185, 0.        , 0.10728593, ..., 0.00165257,\n",
            "          0.72654235, 0.        ],\n",
            "         [0.09918182, 0.        , 0.10728592, ..., 0.00165255,\n",
            "          0.7265424 , 0.        ]]]], dtype=float32)>, <tf.Tensor: shape=(1, 119, 119, 32), dtype=float32, numpy=\n",
            "array([[[[0.        , 0.        , 0.        , ..., 0.        ,\n",
            "          0.06376806, 0.26731116],\n",
            "         [0.        , 0.        , 0.        , ..., 0.        ,\n",
            "          0.06376806, 0.26731116],\n",
            "         [0.        , 0.        , 0.        , ..., 0.        ,\n",
            "          0.06376806, 0.26731116],\n",
            "         ...,\n",
            "         [0.        , 0.        , 0.        , ..., 0.        ,\n",
            "          0.06376806, 0.26731116],\n",
            "         [0.        , 0.        , 0.        , ..., 0.        ,\n",
            "          0.06376806, 0.26731116],\n",
            "         [0.        , 0.        , 0.        , ..., 0.        ,\n",
            "          0.06376806, 0.26731116]],\n",
            "\n",
            "        [[0.        , 0.        , 0.        , ..., 0.        ,\n",
            "          0.06376806, 0.26731116],\n",
            "         [0.        , 0.        , 0.        , ..., 0.        ,\n",
            "          0.06376806, 0.26731116],\n",
            "         [0.        , 0.        , 0.        , ..., 0.        ,\n",
            "          0.06376806, 0.26731116],\n",
            "         ...,\n",
            "         [0.        , 0.        , 0.        , ..., 0.        ,\n",
            "          0.06376806, 0.26731116],\n",
            "         [0.        , 0.        , 0.        , ..., 0.        ,\n",
            "          0.06376806, 0.26731116],\n",
            "         [0.        , 0.        , 0.        , ..., 0.        ,\n",
            "          0.06376806, 0.26731116]],\n",
            "\n",
            "        [[0.        , 0.        , 0.        , ..., 0.        ,\n",
            "          0.06376806, 0.26731116],\n",
            "         [0.        , 0.        , 0.        , ..., 0.        ,\n",
            "          0.06376806, 0.26731116],\n",
            "         [0.        , 0.        , 0.        , ..., 0.        ,\n",
            "          0.06376806, 0.26731116],\n",
            "         ...,\n",
            "         [0.        , 0.        , 0.        , ..., 0.        ,\n",
            "          0.06376806, 0.26731116],\n",
            "         [0.        , 0.        , 0.        , ..., 0.        ,\n",
            "          0.06376806, 0.26731116],\n",
            "         [0.        , 0.        , 0.        , ..., 0.        ,\n",
            "          0.06376806, 0.26731116]],\n",
            "\n",
            "        ...,\n",
            "\n",
            "        [[0.        , 0.        , 0.        , ..., 0.        ,\n",
            "          0.06376806, 0.26731116],\n",
            "         [0.        , 0.        , 0.        , ..., 0.        ,\n",
            "          0.06376806, 0.26731116],\n",
            "         [0.        , 0.        , 0.        , ..., 0.        ,\n",
            "          0.06376806, 0.26731116],\n",
            "         ...,\n",
            "         [0.        , 0.        , 0.        , ..., 0.        ,\n",
            "          0.06376806, 0.26731116],\n",
            "         [0.        , 0.        , 0.        , ..., 0.        ,\n",
            "          0.06376806, 0.26731116],\n",
            "         [0.        , 0.        , 0.        , ..., 0.        ,\n",
            "          0.06376806, 0.26731116]],\n",
            "\n",
            "        [[0.        , 0.        , 0.        , ..., 0.        ,\n",
            "          0.06376806, 0.26731116],\n",
            "         [0.        , 0.        , 0.        , ..., 0.        ,\n",
            "          0.06376806, 0.26731116],\n",
            "         [0.        , 0.        , 0.        , ..., 0.        ,\n",
            "          0.06376806, 0.26731116],\n",
            "         ...,\n",
            "         [0.        , 0.        , 0.        , ..., 0.        ,\n",
            "          0.06376806, 0.26731116],\n",
            "         [0.        , 0.        , 0.        , ..., 0.        ,\n",
            "          0.06376806, 0.26731116],\n",
            "         [0.        , 0.        , 0.        , ..., 0.        ,\n",
            "          0.06376806, 0.26731116]],\n",
            "\n",
            "        [[0.        , 0.        , 0.        , ..., 0.        ,\n",
            "          0.06376806, 0.26731116],\n",
            "         [0.        , 0.        , 0.        , ..., 0.        ,\n",
            "          0.06376806, 0.26731116],\n",
            "         [0.        , 0.        , 0.        , ..., 0.        ,\n",
            "          0.06376806, 0.26731116],\n",
            "         ...,\n",
            "         [0.        , 0.        , 0.        , ..., 0.        ,\n",
            "          0.06376806, 0.26731116],\n",
            "         [0.        , 0.        , 0.        , ..., 0.        ,\n",
            "          0.06376806, 0.2673111 ],\n",
            "         [0.        , 0.        , 0.        , ..., 0.        ,\n",
            "          0.06376814, 0.26731107]]]], dtype=float32)>]\n"
          ]
        }
      ]
    },
    {
      "cell_type": "code",
      "source": [
        "inputs = keras.Input(shape=(784,), name=\"digits\")\n",
        "x = layers.Dense(64, activation=\"relu\", name=\"dense_1\")(inputs)\n",
        "x = layers.Dense(64, activation=\"relu\", name=\"dense_2\")(x)\n",
        "outputs = layers.Dense(10, activation=\"softmax\", name=\"predictions\")(x)\n",
        "\n",
        "model = keras.Model(inputs=inputs, outputs=outputs)"
      ],
      "metadata": {
        "id": "GnWQb7ulu7Dt"
      },
      "execution_count": 19,
      "outputs": []
    },
    {
      "cell_type": "code",
      "source": [
        "(x_train, y_train), (x_test, y_test) = keras.datasets.mnist.load_data()\n",
        "print(x_train.shape)"
      ],
      "metadata": {
        "colab": {
          "base_uri": "https://localhost:8080/"
        },
        "id": "6zuGl3HgxPi-",
        "outputId": "39ae61cb-1dc8-40a3-9cd5-cf89130c4d4c"
      },
      "execution_count": 20,
      "outputs": [
        {
          "output_type": "stream",
          "name": "stdout",
          "text": [
            "Downloading data from https://storage.googleapis.com/tensorflow/tf-keras-datasets/mnist.npz\n",
            "\u001b[1m11490434/11490434\u001b[0m \u001b[32m━━━━━━━━━━━━━━━━━━━━\u001b[0m\u001b[37m\u001b[0m \u001b[1m1s\u001b[0m 0us/step\n",
            "(60000, 28, 28)\n"
          ]
        }
      ]
    },
    {
      "cell_type": "code",
      "source": [
        "x_train = x_train.reshape(60000, 784).astype(\"float32\") / 255\n",
        "x_test = x_test.reshape(10000, 784).astype(\"float32\") / 255\n",
        "\n",
        "y_train = y_train.astype(\"float32\")\n",
        "y_test = y_test.astype(\"float32\")"
      ],
      "metadata": {
        "id": "u7zIT32nx2yf"
      },
      "execution_count": 21,
      "outputs": []
    },
    {
      "cell_type": "code",
      "source": [
        "x_val = x_train[-10000:]\n",
        "y_val = y_train[-10000:]\n",
        "x_train = x_train[:-10000]\n",
        "y_train = y_train[:-10000]"
      ],
      "metadata": {
        "id": "sGd6Cu1gyrJ3"
      },
      "execution_count": 22,
      "outputs": []
    },
    {
      "cell_type": "code",
      "source": [
        "model.compile(\n",
        "    optimizer=keras.optimizers.RMSprop(),  # Optimizer\n",
        "    # Loss function to minimize\n",
        "    loss=keras.losses.SparseCategoricalCrossentropy(),\n",
        "    # List of metrics to monitor\n",
        "    metrics=[keras.metrics.SparseCategoricalAccuracy()],\n",
        ")"
      ],
      "metadata": {
        "id": "-En4iTYSysrQ"
      },
      "execution_count": 23,
      "outputs": []
    },
    {
      "cell_type": "code",
      "source": [
        "model.compile(\n",
        "    optimizer=\"rmsprop\",\n",
        "    loss=\"sparse_categorical_crossentropy\",\n",
        "    metrics=[\"sparse_categorical_accuracy\"],\n",
        ")"
      ],
      "metadata": {
        "id": "8GVtMLMnzg2F"
      },
      "execution_count": 24,
      "outputs": []
    },
    {
      "cell_type": "code",
      "source": [
        "print(\"Fit model on training data\")\n",
        "history = model.fit(\n",
        "    x_train,\n",
        "    y_train,\n",
        "    batch_size=64,\n",
        "    epochs=2,\n",
        "    validation_data=(x_val, y_val),\n",
        ")"
      ],
      "metadata": {
        "colab": {
          "base_uri": "https://localhost:8080/"
        },
        "id": "5AIMO7mfz1Sn",
        "outputId": "164b595a-7f9a-438e-e370-6539a866f3ab"
      },
      "execution_count": 27,
      "outputs": [
        {
          "output_type": "stream",
          "name": "stdout",
          "text": [
            "Fit model on training data\n",
            "Epoch 1/2\n",
            "\u001b[1m782/782\u001b[0m \u001b[32m━━━━━━━━━━━━━━━━━━━━\u001b[0m\u001b[37m\u001b[0m \u001b[1m4s\u001b[0m 5ms/step - loss: 0.1210 - sparse_categorical_accuracy: 0.9632 - val_loss: 0.1131 - val_sparse_categorical_accuracy: 0.9665\n",
            "Epoch 2/2\n",
            "\u001b[1m782/782\u001b[0m \u001b[32m━━━━━━━━━━━━━━━━━━━━\u001b[0m\u001b[37m\u001b[0m \u001b[1m3s\u001b[0m 3ms/step - loss: 0.0971 - sparse_categorical_accuracy: 0.9700 - val_loss: 0.1082 - val_sparse_categorical_accuracy: 0.9678\n"
          ]
        }
      ]
    },
    {
      "cell_type": "code",
      "source": [
        "history.history"
      ],
      "metadata": {
        "colab": {
          "base_uri": "https://localhost:8080/"
        },
        "id": "_1pjCp6N0ZMD",
        "outputId": "005f4e9e-dfdd-4e4d-8a81-9f8e9e793cd3"
      },
      "execution_count": 26,
      "outputs": [
        {
          "output_type": "execute_result",
          "data": {
            "text/plain": [
              "{'loss': [0.348223477602005, 0.16712021827697754],\n",
              " 'sparse_categorical_accuracy': [0.9003199934959412, 0.9504799842834473],\n",
              " 'val_loss': [0.2182961404323578, 0.13365952670574188],\n",
              " 'val_sparse_categorical_accuracy': [0.9362999796867371, 0.9606999754905701]}"
            ]
          },
          "metadata": {},
          "execution_count": 26
        }
      ]
    },
    {
      "cell_type": "code",
      "source": [
        "print(\"Evaluate on test data\")\n",
        "results = model.evaluate(x_test, y_test, batch_size=128)\n",
        "print(\"test loss, test acc:\", results)\n",
        "\n",
        "print(\"Generate predictions for 3 samples\")\n",
        "predictions = model.predict(x_test[:3])\n",
        "print(\"predictions shape:\", predictions.shape)"
      ],
      "metadata": {
        "colab": {
          "base_uri": "https://localhost:8080/"
        },
        "id": "KA3vGd_s0lTX",
        "outputId": "0e4c2466-f0d4-4d5b-f29f-ed21c1a499fb"
      },
      "execution_count": 28,
      "outputs": [
        {
          "output_type": "stream",
          "name": "stdout",
          "text": [
            "Evaluate on test data\n",
            "\u001b[1m79/79\u001b[0m \u001b[32m━━━━━━━━━━━━━━━━━━━━\u001b[0m\u001b[37m\u001b[0m \u001b[1m0s\u001b[0m 2ms/step - loss: 0.1227 - sparse_categorical_accuracy: 0.9636\n",
            "test loss, test acc: [0.10940217226743698, 0.9684000015258789]\n",
            "Generate predictions for 3 samples\n",
            "\u001b[1m1/1\u001b[0m \u001b[32m━━━━━━━━━━━━━━━━━━━━\u001b[0m\u001b[37m\u001b[0m \u001b[1m0s\u001b[0m 85ms/step\n",
            "predictions shape: (3, 10)\n"
          ]
        }
      ]
    },
    {
      "cell_type": "code",
      "source": [
        "print(predictions)"
      ],
      "metadata": {
        "colab": {
          "base_uri": "https://localhost:8080/"
        },
        "id": "SgdPrvlV1bG1",
        "outputId": "d1ddd654-4328-45de-ea31-60a1f3e41796"
      },
      "execution_count": 29,
      "outputs": [
        {
          "output_type": "stream",
          "name": "stdout",
          "text": [
            "[[1.29541689e-07 3.09196615e-08 3.49675247e-05 1.06478314e-04\n",
            "  1.02981712e-11 5.03233677e-09 6.37989824e-14 9.99853492e-01\n",
            "  3.42268049e-06 1.58747105e-06]\n",
            " [2.01931499e-07 5.90013042e-05 9.98767912e-01 9.86749772e-04\n",
            "  1.06339049e-10 6.42812893e-06 4.24284881e-05 1.76855828e-08\n",
            "  1.37327166e-04 1.78973381e-11]\n",
            " [2.32332377e-06 9.96268094e-01 1.07333239e-03 9.25803106e-05\n",
            "  8.77430557e-06 2.84595240e-04 2.25268668e-04 1.38040923e-03\n",
            "  6.62975304e-04 1.63442235e-06]]\n"
          ]
        }
      ]
    },
    {
      "cell_type": "code",
      "source": [],
      "metadata": {
        "id": "6Hmq1o6W1dKC"
      },
      "execution_count": null,
      "outputs": []
    }
  ]
}